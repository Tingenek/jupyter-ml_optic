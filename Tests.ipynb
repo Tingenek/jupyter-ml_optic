{
 "cells": [
  {
   "cell_type": "code",
   "execution_count": null,
   "metadata": {},
   "outputs": [],
   "source": [
    "pip install pandas"
   ]
  },
  {
   "cell_type": "code",
   "execution_count": 1,
   "metadata": {},
   "outputs": [
    {
     "name": "stdout",
     "output_type": "stream",
     "text": [
      "marklogic optic magic loaded.\n"
     ]
    }
   ],
   "source": [
    "%load_ext ml_optic"
   ]
  },
  {
   "cell_type": "code",
   "execution_count": 2,
   "metadata": {},
   "outputs": [
    {
     "data": {
      "text/plain": [
       "\u001b[0;31mDocstring:\u001b[0m\n",
       "::\n",
       "\n",
       "  %ml_optic [-v VARIABLE] [-p PARSER] [connection]\n",
       "\n",
       "positional arguments:\n",
       "  connection            connection string; can be empty if set previously.\n",
       "\n",
       "options:\n",
       "  -v VARIABLE, --variable VARIABLE\n",
       "                        output to a var, default is ml_optic\n",
       "  -p PARSER, --parser PARSER\n",
       "                        parser, xquery or javascript. default is javascript\n",
       "\u001b[0;31mFile:\u001b[0m      ~/.pyenv/versions/syngenta/lib/python3.13/site-packages/ml_optic/magic.py"
      ]
     },
     "metadata": {},
     "output_type": "display_data"
    }
   ],
   "source": [
    "%%ml_optic?"
   ]
  },
  {
   "cell_type": "markdown",
   "metadata": {},
   "source": [
    "### Setup a variable we can inject"
   ]
  },
  {
   "cell_type": "code",
   "execution_count": null,
   "metadata": {},
   "outputs": [],
   "source": [
    "ROWS=30"
   ]
  },
  {
   "cell_type": "markdown",
   "metadata": {},
   "source": [
    "### Full set of parameters setting parser and output var"
   ]
  },
  {
   "cell_type": "code",
   "execution_count": 7,
   "metadata": {},
   "outputs": [
    {
     "name": "stdout",
     "output_type": "stream",
     "text": [
      "Returned 2 results in test\n",
      "test.head() returns:\n"
     ]
    },
    {
     "data": {
      "text/html": [
       "<div>\n",
       "<style scoped>\n",
       "    .dataframe tbody tr th:only-of-type {\n",
       "        vertical-align: middle;\n",
       "    }\n",
       "\n",
       "    .dataframe tbody tr th {\n",
       "        vertical-align: top;\n",
       "    }\n",
       "\n",
       "    .dataframe thead th {\n",
       "        text-align: right;\n",
       "    }\n",
       "</style>\n",
       "<table border=\"1\" class=\"dataframe\">\n",
       "  <thead>\n",
       "    <tr style=\"text-align: right;\">\n",
       "      <th></th>\n",
       "      <th>group</th>\n",
       "      <th>valAvg</th>\n",
       "    </tr>\n",
       "  </thead>\n",
       "  <tbody>\n",
       "    <tr>\n",
       "      <th>0</th>\n",
       "      <td>1</td>\n",
       "      <td>3</td>\n",
       "    </tr>\n",
       "    <tr>\n",
       "      <th>1</th>\n",
       "      <td>2</td>\n",
       "      <td>5</td>\n",
       "    </tr>\n",
       "  </tbody>\n",
       "</table>\n",
       "</div>"
      ],
      "text/plain": [
       "   group  valAvg\n",
       "0      1       3\n",
       "1      2       5"
      ]
     },
     "metadata": {},
     "output_type": "display_data"
    }
   ],
   "source": [
    "%%ml_optic op://admin:admin@192.168.1.180:8000  -p xquery -v test\n",
    "op:from-literals((\n",
    "            map:entry(\"group\", 1) => map:with(\"val\", 2),\n",
    "            map:entry(\"group\", 1) => map:with(\"val\", 4),\n",
    "            map:entry(\"group\", 2) => map:with(\"val\", 3),\n",
    "            map:entry(\"group\", 2) => map:with(\"val\", 5),\n",
    "            map:entry(\"group\", 2) => map:with(\"val\", 7)\n",
    "            ))\n",
    "    => op:group-by('group', op:avg('valAvg', 'val'))\n",
    "    => op:order-by('group')\n",
    "    => op:result()"
   ]
  },
  {
   "cell_type": "markdown",
   "metadata": {},
   "source": [
    "#### Same options different connection"
   ]
  },
  {
   "cell_type": "code",
   "execution_count": 4,
   "metadata": {},
   "outputs": [
    {
     "name": "stdout",
     "output_type": "stream",
     "text": [
      "Other error: Expecting value: line 1 column 1 (char 0)\n",
      "No results\n"
     ]
    }
   ],
   "source": [
    "%%ml_optic op://admin:admin@192.168.1.180:8000 \n",
    "op:from-view(\"sys\", \"sys_tables\",'')\n",
    "   => op:result()\n"
   ]
  },
  {
   "cell_type": "markdown",
   "metadata": {},
   "source": [
    "#### No options or connection - should all persist"
   ]
  },
  {
   "cell_type": "code",
   "execution_count": null,
   "metadata": {},
   "outputs": [],
   "source": [
    "%%ml_optic\n",
    "op:from-view(\"sys\", \"sys_tables\",'')\n",
    "   => op:result()"
   ]
  },
  {
   "cell_type": "markdown",
   "metadata": {},
   "source": [
    "#### Change to JS"
   ]
  },
  {
   "cell_type": "code",
   "execution_count": null,
   "metadata": {},
   "outputs": [],
   "source": [
    "%%ml_optic -p javascript\n",
    "const minRep = 5000;\n",
    "op.fromView('sys', 'sys_tables','')\n",
    "  .limit(25)\n",
    "  .result();\n",
    "   "
   ]
  },
  {
   "cell_type": "markdown",
   "metadata": {},
   "source": [
    "#### Change var"
   ]
  },
  {
   "cell_type": "code",
   "execution_count": null,
   "metadata": {},
   "outputs": [],
   "source": [
    "%%ml_optic -v test2\n",
    "const minRep = 5000;\n",
    "op.fromView('sys', 'sys_tables','')\n",
    "  .limit(25)\n",
    "  .result();"
   ]
  },
  {
   "cell_type": "code",
   "execution_count": null,
   "metadata": {},
   "outputs": [],
   "source": []
  }
 ],
 "metadata": {
  "kernelspec": {
   "display_name": "Python 3 (ipykernel)",
   "language": "python",
   "name": "python3"
  },
  "language_info": {
   "codemirror_mode": {
    "name": "ipython",
    "version": 3
   },
   "file_extension": ".py",
   "mimetype": "text/x-python",
   "name": "python",
   "nbconvert_exporter": "python",
   "pygments_lexer": "ipython3",
   "version": "3.13.0"
  }
 },
 "nbformat": 4,
 "nbformat_minor": 4
}
