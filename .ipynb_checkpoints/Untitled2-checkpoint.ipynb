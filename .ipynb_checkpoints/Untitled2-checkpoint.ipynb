{
 "cells": [
  {
   "cell_type": "code",
   "execution_count": null,
   "metadata": {},
   "outputs": [],
   "source": [
    "import pandas\n",
    "import json\n",
    "import requests\n",
    "from requests.auth import HTTPDigestAuth\n",
    "from urllib.parse import quote\n",
    "from pandas.io.json import json_normalize\n",
    "\n",
    "from io import StringIO\n",
    "import csv"
   ]
  },
  {
   "cell_type": "code",
   "execution_count": null,
   "metadata": {},
   "outputs": [],
   "source": [
    "ROWS_SERVER= 'http://localhost:8079/v1/rows'\n",
    "USER = 'admin'\n",
    "PASSWORD= 'admin'"
   ]
  },
  {
   "cell_type": "markdown",
   "metadata": {},
   "source": [
    "#### Optic Query\n",
    "\n",
    "I'm using a simple Optic query:\n",
    "\n",
    "```xquery version \"1.0-ml\";\n",
    "import module namespace op=\"http://marklogic.com/optic\" at \"/MarkLogic/optic.xqy\";  \n",
    "let $plan := op:from-view(\"Table\", \"View\",'A')\n",
    "  => op:limit(4000000)\n",
    " => op:export()\n",
    "return\n",
    "xdmp:to-json($plan)\n",
    "```\n",
    "\n"
   ]
  },
  {
   "cell_type": "code",
   "execution_count": null,
   "metadata": {},
   "outputs": [],
   "source": [
    "%%timeit\n",
    "url = ROWS_SERVER\n",
    "params = {'output': 'array','column-types' : 'header'}\n",
    "plan='''{\"$optic\":{\"args\":[{\"args\":[\"titanic\",\"passengers\", \"\"], \"fn\":\"from-view\", \"ns\":\"op\"}, {\"args\":[1, 10], \"fn\":\"offset-limit\", \"ns\":\"op\"}], \"fn\":\"operators\", \"ns\":\"op\"}}'''\n",
    "headers = {'Accept': 'text/csv','Content-type': 'application/json'}\n",
    "auth=HTTPDigestAuth(USER,PASSWORD)\n",
    "r = requests.post(url, data=plan, headers=headers,auth=auth,params=params)\n",
    "#Comment out these rows just to get Json\n",
    "#p= pandas.DataFrame.from_dict(r.json(), orient='columns')\n",
    "#p.head()\n",
    "p= pandas.read_csv(StringIO(r.text),skipinitialspace = True, quotechar = '\"')\n",
    "r.text"
   ]
  },
  {
   "cell_type": "code",
   "execution_count": null,
   "metadata": {},
   "outputs": [],
   "source": [
    "p.head()"
   ]
  },
  {
   "cell_type": "code",
   "execution_count": null,
   "metadata": {},
   "outputs": [],
   "source": [
    "p.columns"
   ]
  },
  {
   "cell_type": "code",
   "execution_count": null,
   "metadata": {},
   "outputs": [],
   "source": [
    "p.rows[1]"
   ]
  },
  {
   "cell_type": "code",
   "execution_count": null,
   "metadata": {},
   "outputs": [],
   "source": [
    "p.head(1)"
   ]
  },
  {
   "cell_type": "code",
   "execution_count": null,
   "metadata": {},
   "outputs": [],
   "source": [
    "p.iloc[1]"
   ]
  },
  {
   "cell_type": "code",
   "execution_count": null,
   "metadata": {},
   "outputs": [],
   "source": []
  }
 ],
 "metadata": {
  "kernel_info": {
   "name": "python3"
  },
  "kernelspec": {
   "display_name": "Python 3",
   "language": "python",
   "name": "python3"
  },
  "language_info": {
   "codemirror_mode": {
    "name": "ipython",
    "version": 3
   },
   "file_extension": ".py",
   "mimetype": "text/x-python",
   "name": "python",
   "nbconvert_exporter": "python",
   "pygments_lexer": "ipython3",
   "version": "3.7.1"
  },
  "nteract": {
   "version": "0.12.3"
  }
 },
 "nbformat": 4,
 "nbformat_minor": 2
}
